{
  "cells": [
    {
      "cell_type": "code",
      "execution_count": 48,
      "id": "db4ae4de",
      "metadata": {
        "colab": {
          "base_uri": "https://localhost:8080/"
        },
        "id": "db4ae4de",
        "outputId": "7220d983-29e1-4921-9ad9-1da65b527f5c"
      },
      "outputs": [
        {
          "output_type": "stream",
          "name": "stdout",
          "text": [
            "[ 6 13 16 18  5 11 10  6  1 19 11  1  9 15 14]\n"
          ]
        }
      ],
      "source": [
        "#1. Numpy:\n",
        "# Using NumPy create random vector of size 15 having only Integers in the range 1-20.\n",
        "import numpy as np\n",
        "x = np.random.randint(1,20, size = 15)\n",
        "print (x)"
      ]
    },
    {
      "cell_type": "code",
      "execution_count": 49,
      "id": "c11fd21a",
      "metadata": {
        "colab": {
          "base_uri": "https://localhost:8080/"
        },
        "id": "c11fd21a",
        "outputId": "99e703cf-3b8d-429c-f7b6-6e062d1ebf81"
      },
      "outputs": [
        {
          "output_type": "stream",
          "name": "stdout",
          "text": [
            "[[ 6 13 16 18  5]\n",
            " [11 10  6  1 19]\n",
            " [11  1  9 15 14]]\n"
          ]
        }
      ],
      "source": [
        "# 1. Reshape the array to 3 by 5\n",
        "x=x.reshape(3,5)\n",
        "print(x)\n"
      ]
    },
    {
      "cell_type": "code",
      "execution_count": 50,
      "id": "8d6f20e8",
      "metadata": {
        "colab": {
          "base_uri": "https://localhost:8080/"
        },
        "id": "8d6f20e8",
        "outputId": "4dfa8402-8b4d-4940-87bc-f758bf3a1867"
      },
      "outputs": [
        {
          "output_type": "stream",
          "name": "stdout",
          "text": [
            "shape of array is ->  (3, 5)\n"
          ]
        }
      ],
      "source": [
        "# Print array shape\n",
        "print (\"shape of array is -> \",x.shape)\n"
      ]
    },
    {
      "cell_type": "code",
      "execution_count": 51,
      "id": "b9d57a88",
      "metadata": {
        "colab": {
          "base_uri": "https://localhost:8080/"
        },
        "id": "b9d57a88",
        "outputId": "dd5b02b7-5afc-4c31-ea2f-ac9c89dc535e"
      },
      "outputs": [
        {
          "output_type": "stream",
          "name": "stdout",
          "text": [
            "[[ 6 13 16  0  5]\n",
            " [11 10  6  1  0]\n",
            " [11  1  9  0 14]]\n"
          ]
        }
      ],
      "source": [
        "# 3. Replace the max in each row by 0\n",
        "x = np.where(x == [[i] for i in np.amax(x, axis = 1)], 0, x)\n",
        "print(x)"
      ]
    },
    {
      "cell_type": "code",
      "execution_count": 21,
      "id": "61c6b4b7",
      "metadata": {
        "colab": {
          "base_uri": "https://localhost:8080/"
        },
        "id": "61c6b4b7",
        "outputId": "32e5927d-5f76-4bd3-ddac-44f496775b12"
      },
      "outputs": [
        {
          "output_type": "stream",
          "name": "stdout",
          "text": [
            "Array shape is ->  (4, 3)\n",
            "Array type is ->  <class 'numpy.ndarray'>\n",
            "Array data type is ->  int32\n"
          ]
        }
      ],
      "source": [
        "# Create a 2-dimensional array of size 4 x 3 (composed of 4-byte integer elements), also print the shape, type and data type\n",
        "#of the array\n",
        "import numpy as np\n",
        "\n",
        "x = np.array([[1, 2, 3], [4, 5, 6], [7, 8, 9], [10, 11, 12]], dtype=np.int32)\n",
        "\n",
        "print(\"Array shape is -> \", x.shape)\n",
        "\n",
        "print(\"Array type is -> \", type(x))\n",
        "\n",
        "print(\"Array data type is -> \", x.dtype)\n"
      ]
    },
    {
      "cell_type": "code",
      "execution_count": 23,
      "id": "37852d2d",
      "metadata": {
        "colab": {
          "base_uri": "https://localhost:8080/"
        },
        "id": "37852d2d",
        "outputId": "0446e6c9-066c-490d-f988-5557c1127d09"
      },
      "outputs": [
        {
          "output_type": "stream",
          "name": "stdout",
          "text": [
            "Eigenvalues: [2. 1.]\n",
            "Right eigenvectors:\n",
            "[[0.89442719 0.70710678]\n",
            " [0.4472136  0.70710678]]\n"
          ]
        }
      ],
      "source": [
        "#1(b) Write a program to compute the eigenvalues and right eigenvectors\n",
        "import numpy as np\n",
        "x = np.array([[3, -2], [1, 0]])\n",
        "# computing the eigenvalues and right eigenvectors\n",
        "\n",
        "ev, rev = np.linalg.eig(x)\n",
        "\n",
        "print(\"Eigenvalues:\", ev)\n",
        "print(\"Right eigenvectors:\")\n",
        "print(rev)\n"
      ]
    },
    {
      "cell_type": "code",
      "execution_count": 53,
      "id": "86b8a7cd",
      "metadata": {
        "colab": {
          "base_uri": "https://localhost:8080/"
        },
        "id": "86b8a7cd",
        "outputId": "6ac0878f-02a1-442a-8480-10de1baef738"
      },
      "outputs": [
        {
          "output_type": "stream",
          "name": "stdout",
          "text": [
            "[[0 1 2]\n",
            " [3 4 5]]\n",
            "Sum : 4\n"
          ]
        }
      ],
      "source": [
        "#1(c)Compute the sum of the diagonal element of a given array.\n",
        "import numpy as np\n",
        "a = np.array([[0, 1, 2], [3, 4, 5]])\n",
        "\n",
        "# computing the sum of the diagonal elements by trace method\n",
        "print(a)\n",
        "print(\"Sum :\", np.trace(a))\n"
      ]
    },
    {
      "cell_type": "code",
      "execution_count": 38,
      "id": "e8ab3b32",
      "metadata": {
        "colab": {
          "base_uri": "https://localhost:8080/"
        },
        "id": "e8ab3b32",
        "outputId": "be11b631-e2b3-41e7-b96c-f3bf93973ac6"
      },
      "outputs": [
        {
          "output_type": "stream",
          "name": "stdout",
          "text": [
            "Reshaped to 3x2:\n",
            "[[1 2]\n",
            " [3 4]\n",
            " [5 6]]\n",
            "Reshaped to 2x3:\n",
            "[[1 2 3]\n",
            " [4 5 6]]\n"
          ]
        }
      ],
      "source": [
        "#1(d)Write a NumPy program to create a new shape to an array without changing its data. \n",
        "import numpy as np\n",
        "arr = np.array([[1, 2], [3, 4], [5, 6]])\n",
        "\n",
        "# reshape to 3x2\n",
        "arr = arr.reshape(3, 2)\n",
        "print(\"Reshaped to 3x2:\")\n",
        "print(arr)\n",
        "\n",
        "# reshape to 2x3\n",
        "arr = arr.reshape(2, 3)\n",
        "print(\"Reshaped to 2x3:\")\n",
        "print(arr)\n"
      ]
    },
    {
      "cell_type": "code",
      "execution_count": 54,
      "id": "a2531142",
      "metadata": {
        "colab": {
          "base_uri": "https://localhost:8080/",
          "height": 406
        },
        "id": "a2531142",
        "outputId": "8739453c-ce59-4fbf-d7a0-6983cc0af225"
      },
      "outputs": [
        {
          "output_type": "display_data",
          "data": {
            "text/plain": [
              "<Figure size 640x480 with 1 Axes>"
            ],
            "image/png": "[encoded data removed]"
          },
          "metadata": {}
        }
      ],
      "source": [
        "#Question2 Write a Python programming to create a below chart of the popularity of programming Languages.\n",
        "import matplotlib.pyplot as plt\n",
        "# Given Data for plot\n",
        "languages = 'Java', 'Python', 'PHP', 'JavaScript', 'C#', 'C++'\n",
        "popuratity = [22.2, 17.6, 8.8, 8, 7.7, 6.7]\n",
        "\n",
        "# explode 1st slice\n",
        "explode = (0.1, 0, 0, 0,0,0)\n",
        "\n",
        "# Plot\n",
        "plt.pie(popuratity, explode=explode, labels=languages, autopct='%.1f%%', shadow=True,startangle=135)\n",
        "plt.show()"
      ]
    },
    {
      "cell_type": "code",
      "execution_count": null,
      "id": "b8c3931b",
      "metadata": {
        "id": "b8c3931b"
      },
      "outputs": [],
      "source": []
    }
  ],
  "metadata": {
    "kernelspec": {
      "display_name": "Python 3 (ipykernel)",
      "language": "python",
      "name": "python3"
    },
    "language_info": {
      "codemirror_mode": {
        "name": "ipython",
        "version": 3
      },
      "file_extension": ".py",
      "mimetype": "text/x-python",
      "name": "python",
      "nbconvert_exporter": "python",
      "pygments_lexer": "ipython3",
      "version": "3.11.1"
    },
    "colab": {
      "provenance": []
    }
  },
  "nbformat": 4,
  "nbformat_minor": 5
}